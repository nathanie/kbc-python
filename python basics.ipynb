{
 "cells": [
  {
   "cell_type": "markdown",
   "metadata": {},
   "source": [
    "## Data Types"
   ]
  },
  {
   "cell_type": "markdown",
   "metadata": {},
   "source": [
    "##### numbers\n",
    "* integer\n",
    "* float\n",
    "* complex"
   ]
  },
  {
   "cell_type": "code",
   "execution_count": 1,
   "metadata": {},
   "outputs": [],
   "source": [
    "# these are all integers:\n",
    "a = 7\n",
    "b = 19843\n",
    "c = 7*7"
   ]
  },
  {
   "cell_type": "code",
   "execution_count": 2,
   "metadata": {},
   "outputs": [
    {
     "name": "stdout",
     "output_type": "stream",
     "text": [
      "7 19843 49\n",
      "<class 'int'> <class 'int'> <class 'int'>\n"
     ]
    }
   ],
   "source": [
    "print(a,b,c)\n",
    "print(type(a),type(b),type(c))"
   ]
  },
  {
   "cell_type": "code",
   "execution_count": 3,
   "metadata": {},
   "outputs": [],
   "source": [
    "# these are floats:\n",
    "d = 1.78\n",
    "e = 0.928398239823982938\n",
    "f = 1e-5\n",
    "g = d*a"
   ]
  },
  {
   "cell_type": "code",
   "execution_count": 4,
   "metadata": {},
   "outputs": [
    {
     "name": "stdout",
     "output_type": "stream",
     "text": [
      "1.78 0.928398239823983 1e-05 12.46\n",
      "<class 'float'> <class 'float'> <class 'float'> <class 'float'>\n"
     ]
    }
   ],
   "source": [
    "print(d,e,f,g)\n",
    "print(type(d),type(e),type(f),type(g))"
   ]
  },
  {
   "cell_type": "code",
   "execution_count": 5,
   "metadata": {},
   "outputs": [],
   "source": [
    "# this is a complex number:\n",
    "h = 1+3j"
   ]
  },
  {
   "cell_type": "code",
   "execution_count": 6,
   "metadata": {},
   "outputs": [
    {
     "name": "stdout",
     "output_type": "stream",
     "text": [
      "(1+3j)\n",
      "<class 'complex'>\n"
     ]
    }
   ],
   "source": [
    "print(h)\n",
    "print(type(h))"
   ]
  },
  {
   "cell_type": "markdown",
   "metadata": {},
   "source": [
    "#### math operators and functions"
   ]
  },
  {
   "cell_type": "code",
   "execution_count": 7,
   "metadata": {},
   "outputs": [
    {
     "name": "stdout",
     "output_type": "stream",
     "text": [
      "(3+5*7-3)/2 = 11.666666666666666\n"
     ]
    }
   ],
   "source": [
    "# these are all standard math operators supported in python:\n",
    "print('(3+5*7-3)/2 =',(3+5*7-3)/3)"
   ]
  },
  {
   "cell_type": "code",
   "execution_count": 8,
   "metadata": {},
   "outputs": [
    {
     "name": "stdout",
     "output_type": "stream",
     "text": [
      "(3+5*7-3)//2 = 11\n"
     ]
    }
   ],
   "source": [
    "# using double division sign (//) returns the integer part of the division result\n",
    "print('(3+5*7-3)//2 =',(3+5*7-3)//3)"
   ]
  },
  {
   "cell_type": "code",
   "execution_count": 9,
   "metadata": {},
   "outputs": [
    {
     "name": "stdout",
     "output_type": "stream",
     "text": [
      "(3+5*7-3)%3 = 2\n"
     ]
    }
   ],
   "source": [
    "# using % returns the remainder of the division result\n",
    "print('(3+5*7-3)%3 =',(3+5*7-3)%3)"
   ]
  },
  {
   "cell_type": "code",
   "execution_count": 10,
   "metadata": {},
   "outputs": [
    {
     "name": "stdout",
     "output_type": "stream",
     "text": [
      "2**5= 32\n"
     ]
    }
   ],
   "source": [
    "# ** for exponentiation\n",
    "print('2**5=',2**5)"
   ]
  },
  {
   "cell_type": "markdown",
   "metadata": {},
   "source": [
    "##### strings"
   ]
  },
  {
   "cell_type": "code",
   "execution_count": 11,
   "metadata": {},
   "outputs": [
    {
     "name": "stdout",
     "output_type": "stream",
     "text": [
      "str1 = this is a string\n"
     ]
    }
   ],
   "source": [
    "# these is a string (defined with double quotation mark):\n",
    "str1 = 'this is a string'\n",
    "print('str1 =',str1)"
   ]
  },
  {
   "cell_type": "code",
   "execution_count": 12,
   "metadata": {},
   "outputs": [
    {
     "name": "stdout",
     "output_type": "stream",
     "text": [
      "str2 = this is another string\n"
     ]
    }
   ],
   "source": [
    "# this is another string (defined with double quotation mark):\n",
    "str2 = \"this is another string\"\n",
    "print('str2 =',str2)"
   ]
  },
  {
   "cell_type": "code",
   "execution_count": 13,
   "metadata": {},
   "outputs": [
    {
     "name": "stdout",
     "output_type": "stream",
     "text": [
      "str2 = a string with a single ' sign \n"
     ]
    }
   ],
   "source": [
    "# the following is a string with a single quote mark\n",
    "# since the ' sign signals begining and ending of the string we need to use the escape character \"\\\" before it\n",
    "str3 = 'a string with a single \\' sign '\n",
    "print('str2 =',str3)"
   ]
  },
  {
   "cell_type": "code",
   "execution_count": 14,
   "metadata": {},
   "outputs": [
    {
     "name": "stdout",
     "output_type": "stream",
     "text": [
      "str2 = this is  intentionally long string that is not actually splited between line #1 and line #2\n"
     ]
    }
   ],
   "source": [
    "# the escape character is usefull for other thigs as well such as ignoring the line ending for better readability:\n",
    "str4 = 'this is  intentionally long string that is not actually splited between line #1 \\\n",
    "and line #2'\n",
    "print('str2 =',str4)"
   ]
  },
  {
   "cell_type": "code",
   "execution_count": 15,
   "metadata": {},
   "outputs": [
    {
     "name": "stdout",
     "output_type": "stream",
     "text": [
      "str2 = this one however is splited \n",
      "       to two different lines\n"
     ]
    }
   ],
   "source": [
    "# and also to create such separations in our prints\n",
    "str5 = 'this one however is splited \\n       to two different lines' \n",
    "print('str2 =',str5)"
   ]
  },
  {
   "cell_type": "code",
   "execution_count": 16,
   "metadata": {},
   "outputs": [
    {
     "name": "stdout",
     "output_type": "stream",
     "text": [
      "['this', 'is', 'a', 'string']\n"
     ]
    }
   ],
   "source": [
    "# we can use the 'split()' function to split the string using a delimiter (default delimiter is single-space):\n",
    "print('this is a string'.split())"
   ]
  },
  {
   "cell_type": "code",
   "execution_count": 17,
   "metadata": {},
   "outputs": [
    {
     "name": "stdout",
     "output_type": "stream",
     "text": [
      "THIS IS A STRING\n",
      "this is a string\n"
     ]
    }
   ],
   "source": [
    "# we can also conver al string to lower-case / upper-case\n",
    "print('this is a string'.upper())\n",
    "print('THIS IS A STRING'.lower())"
   ]
  },
  {
   "cell_type": "code",
   "execution_count": 18,
   "metadata": {},
   "outputs": [
    {
     "name": "stdout",
     "output_type": "stream",
     "text": [
      "a=7, b=19843, c=49\n",
      "a=7, b=19843, c=49\n",
      "a= 7  b= 19843  c= 49\n"
     ]
    }
   ],
   "source": [
    "# combining strings and numbers in prints can be done in several ways:\n",
    "print('a=%s, b=%s, c=%s' % (a,b,c))\n",
    "print('a={}, b={}, c={}'.format(a,b,c))\n",
    "print('a=',a,' b=',b,' c=',c)"
   ]
  },
  {
   "cell_type": "code",
   "execution_count": 19,
   "metadata": {},
   "outputs": [
    {
     "name": "stdout",
     "output_type": "stream",
     "text": [
      "this is a regular string with a single slash sign \\ in it\n",
      "this is a raw string hence it has double slash sign \\\\ in it\n"
     ]
    }
   ],
   "source": [
    "# raw strings are preceded with 'r' and treat the escape character '\\' as a regular character \n",
    "print('this is a regular string with a single slash sign \\\\ in it')\n",
    "print(r'this is a raw string hence it has double slash sign \\\\ in it')"
   ]
  },
  {
   "cell_type": "markdown",
   "metadata": {},
   "source": [
    "#### boolean type"
   ]
  },
  {
   "cell_type": "code",
   "execution_count": 20,
   "metadata": {},
   "outputs": [
    {
     "name": "stdout",
     "output_type": "stream",
     "text": [
      "bool1 = True, bool2 = False, \n",
      "type bool1 = <class 'bool'>, type bool2 = <class 'bool'>\n"
     ]
    }
   ],
   "source": [
    "# this is a boolean variable\n",
    "bool1 = True\n",
    "bool2 = False\n",
    "print('bool1 = {}, bool2 = {}, \\ntype bool1 = {}, type bool2 = {}'.format(bool1,bool2,type(bool1),type(bool2)))"
   ]
  },
  {
   "cell_type": "code",
   "execution_count": 21,
   "metadata": {},
   "outputs": [
    {
     "name": "stdout",
     "output_type": "stream",
     "text": [
      "these are all valid boolean comparisons:\n",
      "1==2 False\n",
      "1!=2 True\n",
      "1<2 True\n",
      "1>=2 False\n"
     ]
    }
   ],
   "source": [
    "print('these are all valid boolean comparisons:')\n",
    "print('1==2',1==2)\n",
    "print('1!=2',1!=2)\n",
    "print('1<2',1<2)\n",
    "print('1>=2',1>=2)"
   ]
  },
  {
   "cell_type": "code",
   "execution_count": 22,
   "metadata": {},
   "outputs": [
    {
     "name": "stdout",
     "output_type": "stream",
     "text": [
      "bool1 and not bool2 = True\n",
      "not bool1 or bool2 = False\n"
     ]
    }
   ],
   "source": [
    "# we can use boolean operators as well:\n",
    "print('bool1 and not bool2 = {}'.format(bool1 and not bool2))\n",
    "print('not bool1 or bool2 = {}'.format(not bool1 or bool2))"
   ]
  },
  {
   "cell_type": "markdown",
   "metadata": {},
   "source": [
    "## casting"
   ]
  },
  {
   "cell_type": "code",
   "execution_count": 23,
   "metadata": {},
   "outputs": [
    {
     "name": "stdout",
     "output_type": "stream",
     "text": [
      "these are all integers because of casting: 1, 12\n",
      "these are all floats because of casting: 1.0, 12.0\n",
      "these are all strings because of casting: 1.1, 12\n",
      "this is a complex number: (1+0j)\n"
     ]
    }
   ],
   "source": [
    "# somtimes we want to explicitly state (or change) the type of a variable \n",
    "# this can easily be done using the 'int()', 'float()', complex() & 'str() fuctions':\n",
    "print('these are all integers because of casting:',int(1.1),'\\b,',int('12')) # \\b is for backspace \n",
    "print('these are all floats because of casting:',float(1),'\\b,',float('12')) # \\b is for backspace \n",
    "print('these are all strings because of casting: '+str(1.1)+', '+str(12)) # + concatenates strings\n",
    "print('this is a complex number:',complex(1))"
   ]
  },
  {
   "cell_type": "markdown",
   "metadata": {},
   "source": [
    "## collections"
   ]
  },
  {
   "cell_type": "markdown",
   "metadata": {},
   "source": [
    "python has 4 types of collections:\n",
    "* lists\n",
    "* tuples\n",
    "* sets\n",
    "* dictionaries"
   ]
  },
  {
   "cell_type": "markdown",
   "metadata": {},
   "source": [
    "#### list"
   ]
  },
  {
   "cell_type": "code",
   "execution_count": 24,
   "metadata": {},
   "outputs": [],
   "source": [
    "# python list is an ordered collection of items that may contain multiple shows of the same item\n",
    "# a list is defined and instentiated using square brackets:\n",
    "l1 = [1,3,6,8,4,3,1,3,4,7,9,10192,1.555,'apples']\n",
    "# as we can see a list items can be of varying types"
   ]
  },
  {
   "cell_type": "code",
   "execution_count": 25,
   "metadata": {},
   "outputs": [
    {
     "name": "stdout",
     "output_type": "stream",
     "text": [
      "the second item is l1[1] 3\n"
     ]
    }
   ],
   "source": [
    "# since a list is an ordered collection, we can refer to its items \n",
    "# using their location within the list (starting from 0):\n",
    "print('the second item is l1[1]',l1[1])"
   ]
  },
  {
   "cell_type": "code",
   "execution_count": 26,
   "metadata": {},
   "outputs": [
    {
     "name": "stdout",
     "output_type": "stream",
     "text": [
      "the last item is l1[1] apples\n",
      "the entire list items: [1, 3, 6, 8, 4, 3, 1, 3, 4, 7, 9, 10192, 1.555, 'apples']\n"
     ]
    }
   ],
   "source": [
    "# we can refer to list items using their location from the end of the list:\n",
    "print('the last item is l1[1]',l1[-1])\n",
    "print('the entire list items:',l1)"
   ]
  },
  {
   "cell_type": "code",
   "execution_count": 27,
   "metadata": {},
   "outputs": [
    {
     "name": "stdout",
     "output_type": "stream",
     "text": [
      "the list items in places 2-4 are: [6, 8, 4]\n"
     ]
    }
   ],
   "source": [
    "# indexing a range of items is done using colon ':'\n",
    "# note that the range is reffered like [n1..n2), meaning closed range on the left and open on its right side\n",
    "print('the list items in places 2-4 are:',l1[2:5])"
   ]
  },
  {
   "cell_type": "code",
   "execution_count": 28,
   "metadata": {},
   "outputs": [
    {
     "name": "stdout",
     "output_type": "stream",
     "text": [
      "reversed list items ['apples', 1.555, 10192, 9, 7, 4, 3, 1, 3, 4, 8, 6, 3, 1]\n"
     ]
    }
   ],
   "source": [
    "# a reversed list items:\n",
    "print('reversed list items',l1[::-1])"
   ]
  },
  {
   "cell_type": "code",
   "execution_count": 29,
   "metadata": {},
   "outputs": [
    {
     "name": "stdout",
     "output_type": "stream",
     "text": [
      "this is the list with the appended item [1, 3, 6, 8, 4, 3, 1, 3, 4, 7, 9, 10192, 1.555, 'apples', 'appended']\n"
     ]
    }
   ],
   "source": [
    "# we can append an item to a list\n",
    "l1.append('appended')\n",
    "print('this is the list with the appended item',l1)"
   ]
  },
  {
   "cell_type": "code",
   "execution_count": 30,
   "metadata": {},
   "outputs": [
    {
     "name": "stdout",
     "output_type": "stream",
     "text": [
      "this is the list after removing the appended item [1, 3, 6, 8, 4, 3, 1, 3, 4, 7, 9, 10192, 1.555, 'apples']\n"
     ]
    }
   ],
   "source": [
    "# and remove an item from the end of a list\n",
    "l1.pop()\n",
    "print('this is the list after removing the appended item',l1)"
   ]
  },
  {
   "cell_type": "code",
   "execution_count": 31,
   "metadata": {},
   "outputs": [
    {
     "name": "stdout",
     "output_type": "stream",
     "text": [
      "note that remove only deletes the first show of the desired paramater: [3, 6, 8, 4, 3, 1, 3, 4, 7, 9, 10192, 1.555, 'apples']\n"
     ]
    }
   ],
   "source": [
    "# or delete a spesific item from the list\n",
    "l1.remove(1)\n",
    "print('note that remove only deletes the first show of the desired paramater:',l1)"
   ]
  },
  {
   "cell_type": "code",
   "execution_count": 32,
   "metadata": {},
   "outputs": [
    {
     "name": "stdout",
     "output_type": "stream",
     "text": [
      "remeber that counting starts from zero: [3, 6, 4, 3, 1, 3, 4, 7, 9, 10192, 1.555, 'apples']\n"
     ]
    }
   ],
   "source": [
    "# remove the item in the N-th location in the list:\n",
    "del l1[2]\n",
    "print('remeber that counting starts from zero:',l1)"
   ]
  },
  {
   "cell_type": "code",
   "execution_count": 33,
   "metadata": {},
   "outputs": [
    {
     "name": "stdout",
     "output_type": "stream",
     "text": [
      "this is the list after inserting an item: [3, 6, 'inserted', 4, 3, 1, 3, 4, 7, 9, 10192, 1.555, 'apples']\n"
     ]
    }
   ],
   "source": [
    "# we can also insert an item to the list:\n",
    "l1.insert(2,'inserted')\n",
    "print('this is the list after inserting an item:',l1)"
   ]
  },
  {
   "cell_type": "code",
   "execution_count": 34,
   "metadata": {},
   "outputs": [
    {
     "name": "stdout",
     "output_type": "stream",
     "text": [
      "concatenated list is: [4, 5, 6, 1, 2, 3]\n",
      "concatenated sorted list is: [1, 2, 3, 4, 5, 6]\n"
     ]
    }
   ],
   "source": [
    "# concatinating two lists is done by simply using the '+' sign\n",
    "# note that the order is being preserved\n",
    "l1 = [1,2,3]\n",
    "l2 = [4,5,6]\n",
    "print('concatenated list is:',l2+l1)\n",
    "\n",
    "# if we want to sort the concatenated list we can use the sorted function\n",
    "print('concatenated sorted list is:',sorted(l2+l1))"
   ]
  },
  {
   "cell_type": "code",
   "execution_count": 35,
   "metadata": {},
   "outputs": [
    {
     "name": "stdout",
     "output_type": "stream",
     "text": [
      "as we can see the item 4 is in both of the lists (because they're the same), l1 = [1, 2, 3, 4] l2 = [1, 2, 3, 4]\n"
     ]
    }
   ],
   "source": [
    "# assigning a list to another variable does not copy the list but the reference to it\n",
    "l1 = [1,2,3]\n",
    "l2 = l1\n",
    "l1.append(4)\n",
    "print('as we can see the item 4 is in both of the lists (because they\\'re the same),','l1 =',l1,'l2 =',l2)"
   ]
  },
  {
   "cell_type": "code",
   "execution_count": 36,
   "metadata": {},
   "outputs": [
    {
     "name": "stdout",
     "output_type": "stream",
     "text": [
      "as we can see the item 4 is no longer in both of the lists (because they're not the same), l1 = [1, 2, 3, 4] l2 = [1, 2, 3]\n"
     ]
    }
   ],
   "source": [
    "# to coopy a list we should use the copy() function\n",
    "l1 = [1,2,3]\n",
    "l2 = l1.copy()\n",
    "l1.append(4)\n",
    "print('as we can see the item 4 is no longer in both of the lists (because they\\'re not the same),','l1 =',l1,'l2 =',l2)"
   ]
  },
  {
   "cell_type": "code",
   "execution_count": 37,
   "metadata": {},
   "outputs": [
    {
     "name": "stdout",
     "output_type": "stream",
     "text": [
      "2 in l1 =  True\n",
      "4 in l1 =  False\n"
     ]
    }
   ],
   "source": [
    "# to find out if a specific value is within a list use the 'in' operator\n",
    "l1 = [1,2,3]\n",
    "print('2 in l1 = ',2 in l1)\n",
    "print('4 in l1 = ',4 in l1)"
   ]
  },
  {
   "cell_type": "markdown",
   "metadata": {},
   "source": [
    "#### tuple"
   ]
  },
  {
   "cell_type": "code",
   "execution_count": 38,
   "metadata": {},
   "outputs": [],
   "source": [
    "# we can think of a tuple as a list that once created it cannot be changed\n",
    "# a tuple is created using rounded brackets"
   ]
  },
  {
   "cell_type": "code",
   "execution_count": 39,
   "metadata": {},
   "outputs": [
    {
     "name": "stdout",
     "output_type": "stream",
     "text": [
      "the third item in tup1 is: 3\n"
     ]
    }
   ],
   "source": [
    "tup1 = (1,2,3,4)\n",
    "print('the third item in tup1 is:',tup1[2])"
   ]
  },
  {
   "cell_type": "code",
   "execution_count": 40,
   "metadata": {},
   "outputs": [
    {
     "ename": "TypeError",
     "evalue": "'tuple' object does not support item assignment",
     "output_type": "error",
     "traceback": [
      "\u001b[1;31m---------------------------------------------------------------------------\u001b[0m",
      "\u001b[1;31mTypeError\u001b[0m                                 Traceback (most recent call last)",
      "\u001b[1;32m<ipython-input-40-96a37b43a5a5>\u001b[0m in \u001b[0;36m<module>\u001b[1;34m\u001b[0m\n\u001b[0;32m      1\u001b[0m \u001b[1;31m# however the following will yield an error:\u001b[0m\u001b[1;33m\u001b[0m\u001b[1;33m\u001b[0m\u001b[1;33m\u001b[0m\u001b[0m\n\u001b[0;32m      2\u001b[0m \u001b[0mtup1\u001b[0m \u001b[1;33m=\u001b[0m \u001b[1;33m(\u001b[0m\u001b[1;36m1\u001b[0m\u001b[1;33m,\u001b[0m\u001b[1;36m2\u001b[0m\u001b[1;33m,\u001b[0m\u001b[1;36m3\u001b[0m\u001b[1;33m,\u001b[0m\u001b[1;36m4\u001b[0m\u001b[1;33m)\u001b[0m\u001b[1;33m\u001b[0m\u001b[1;33m\u001b[0m\u001b[0m\n\u001b[1;32m----> 3\u001b[1;33m \u001b[0mtup1\u001b[0m\u001b[1;33m[\u001b[0m\u001b[1;36m2\u001b[0m\u001b[1;33m]\u001b[0m \u001b[1;33m=\u001b[0m \u001b[1;36m3\u001b[0m\u001b[1;33m\u001b[0m\u001b[1;33m\u001b[0m\u001b[0m\n\u001b[0m",
      "\u001b[1;31mTypeError\u001b[0m: 'tuple' object does not support item assignment"
     ]
    }
   ],
   "source": [
    "# however the following will yield an error:\n",
    "tup1 = (1,2,3,4)\n",
    "tup1[2] = 3"
   ]
  },
  {
   "cell_type": "code",
   "execution_count": 41,
   "metadata": {},
   "outputs": [
    {
     "name": "stdout",
     "output_type": "stream",
     "text": [
      "this is a tuple (3,) and this is not 3\n"
     ]
    }
   ],
   "source": [
    "# in order to create a tuple with only one item we need to use a comma (',') after this one element\n",
    "tup2 = (3,)\n",
    "notup1 = (3)\n",
    "print('this is a tuple {} and this is not {}'.format(tup2,notup1))"
   ]
  },
  {
   "cell_type": "markdown",
   "metadata": {},
   "source": [
    "#### set"
   ]
  },
  {
   "cell_type": "code",
   "execution_count": 42,
   "metadata": {},
   "outputs": [
    {
     "name": "stdout",
     "output_type": "stream",
     "text": [
      "set1 = {1, 3, 5} \n",
      "set2 = {1, 2, 3, 4} \n",
      "set3 = {1, 3, 4, 5, 6}\n"
     ]
    }
   ],
   "source": [
    "# a set is a collection of items without any duplicates or specific order\n",
    "# the following are all valid ways to create sets:\n",
    "set1 = {1,3,5}\n",
    "# constructing a set from a tuple\n",
    "set2 = set((1,3,4,2,3))\n",
    "# constructing a set from a list\n",
    "set3 = set([1,3,4,1,6,5])\n",
    "print('set1 =',set1,'\\nset2 =',set2,'\\nset3 =',set3)"
   ]
  },
  {
   "cell_type": "code",
   "execution_count": 43,
   "metadata": {},
   "outputs": [
    {
     "name": "stdout",
     "output_type": "stream",
     "text": [
      "3 is in the set set1 -> True\n"
     ]
    }
   ],
   "source": [
    "# we cannot refer to items location as the set is unordered\n",
    "# however we can use the 'in' operator to check if an item is in a set\n",
    "set1 = {1,3,5,7,9}\n",
    "print('3 is in the set set1 ->',3 in set1)"
   ]
  },
  {
   "cell_type": "code",
   "execution_count": 44,
   "metadata": {},
   "outputs": [
    {
     "name": "stdout",
     "output_type": "stream",
     "text": [
      "the union of set1 and set2 is {1, 3, 5, 7, 9, 10, 11} and the intersection is {9, 3}\n"
     ]
    }
   ],
   "source": [
    "# we can also  calculate the union or intersection of sets:\n",
    "set1 = {1,3,5,7,9}\n",
    "set2 = {11,3,10,9}\n",
    "print('the union of set1 and set2 is {} and the intersection is {}'.format(set1.union(set2),set1.intersection(set2)))"
   ]
  },
  {
   "cell_type": "markdown",
   "metadata": {},
   "source": [
    "#### dictionaries"
   ]
  },
  {
   "cell_type": "code",
   "execution_count": 45,
   "metadata": {},
   "outputs": [
    {
     "name": "stdout",
     "output_type": "stream",
     "text": [
      "dictionary dict1 is {'age': 26, 'gender': 'female', 'id': 2398230192}\n",
      "keys of dict1 are: dict_keys(['age', 'gender', 'id'])\n",
      "values of dict1 are: dict_values([26, 'female', 2398230192])\n",
      "keys of dict1 (casted to list) are: ['age', 'gender', 'id']\n",
      "values of dict1 (casted to list) are: [26, 'female', 2398230192]\n"
     ]
    }
   ],
   "source": [
    "# a dictionary is a collection of indexed items\n",
    "# we can define a dictionary in the following way:\n",
    "dict1 = {'age':26,\n",
    "         'gender':'female',\n",
    "         'id':2398230192}\n",
    "print('dictionary dict1 is',dict1)\n",
    "print('keys of dict1 are:',dict1.keys())\n",
    "print('values of dict1 are:',dict1.values())\n",
    "# note that while both keys and values may look like lists they are not lists \n",
    "# we can cast them to be lists using the list() command\n",
    "print('keys of dict1 (casted to list) are:',list(dict1.keys()))\n",
    "print('values of dict1 (casted to list) are:',list(dict1.values()))"
   ]
  },
  {
   "cell_type": "code",
   "execution_count": 46,
   "metadata": {},
   "outputs": [
    {
     "name": "stdout",
     "output_type": "stream",
     "text": [
      "dictionary dict1 is {'age': 26, 'gender': 'female', 'id': 2398230192}\n"
     ]
    }
   ],
   "source": [
    "# another way to construct a dictionary is:\n",
    "dict1 = dict(age=26,gender='female',id=2398230192)\n",
    "print('dictionary dict1 is',dict1)"
   ]
  },
  {
   "cell_type": "code",
   "execution_count": 47,
   "metadata": {},
   "outputs": [
    {
     "name": "stdout",
     "output_type": "stream",
     "text": [
      "the gender in dict1 is: female\n"
     ]
    }
   ],
   "source": [
    "# we can get an item from a list using its index:\n",
    "dict1 = {'age':26,\n",
    "         'gender':'female',\n",
    "         'id':2398230192}\n",
    "print('the gender in dict1 is:',dict1['gender'])"
   ]
  },
  {
   "cell_type": "code",
   "execution_count": 48,
   "metadata": {},
   "outputs": [
    {
     "name": "stdout",
     "output_type": "stream",
     "text": [
      "the gender in dict1 is: female\n",
      "the city in dict1 is: Amsterdam\n"
     ]
    }
   ],
   "source": [
    "# we can also assign a new item to the list using either a new or existing index:\n",
    "dict1 = {'age':26,\n",
    "         'gender':'female',\n",
    "         'id':2398230192}\n",
    "dict1['city'] = 'Amsterdam'\n",
    "dict1['age'] = 27\n",
    "\n",
    "print('the gender in dict1 is:',dict1['gender'])\n",
    "print('the city in dict1 is:',dict1['city'])"
   ]
  },
  {
   "cell_type": "code",
   "execution_count": 49,
   "metadata": {},
   "outputs": [
    {
     "data": {
      "text/plain": [
       "{'Anne': {'age': 26, 'gender': 'female', 'id': 2398230192},\n",
       " 'Jake': {'age': 18, 'gender': 'male', 'id': 1094380299},\n",
       " 'Erika': {'age': 22, 'gender': 'female', 'id': 1923480923}}"
      ]
     },
     "execution_count": 49,
     "metadata": {},
     "output_type": "execute_result"
    }
   ],
   "source": [
    "# we can create a dictionary of dictionaries:\n",
    "people = {\n",
    "    'Anne':{\n",
    "        'age':26,\n",
    "        'gender':'female',\n",
    "        'id':2398230192\n",
    "    },\n",
    "    'Jake':{\n",
    "        'age':18,\n",
    "        'gender':'male',\n",
    "        'id':1094380299\n",
    "    },\n",
    "    'Erika':{\n",
    "        'age':22,\n",
    "        'gender':'female',\n",
    "        'id':1923480923\n",
    "    }\n",
    "}\n",
    "people"
   ]
  },
  {
   "cell_type": "code",
   "execution_count": 50,
   "metadata": {},
   "outputs": [
    {
     "name": "stdout",
     "output_type": "stream",
     "text": [
      "this is a \n",
      "string\n"
     ]
    }
   ],
   "source": [
    "# note that a string is also an ordered colection so we can slice it using items (characters) location:\n",
    "str1 = 'this is a string'\n",
    "print(str1[:10])\n",
    "print(str1[-6:])"
   ]
  },
  {
   "cell_type": "markdown",
   "metadata": {},
   "source": [
    "## flow control"
   ]
  },
  {
   "cell_type": "markdown",
   "metadata": {},
   "source": [
    "#### conditioning"
   ]
  },
  {
   "cell_type": "code",
   "execution_count": 51,
   "metadata": {},
   "outputs": [
    {
     "name": "stdout",
     "output_type": "stream",
     "text": [
      "the threshold is larger than 3\n"
     ]
    }
   ],
   "source": [
    "# we can use the if statement to perform parts of our code only if a condition is met:\n",
    "threshold = 5\n",
    "if threshold>3:\n",
    "    print('the threshold is larger than 3')\n",
    "else:\n",
    "    print('the threshold isn\\'t larger than 3')"
   ]
  },
  {
   "cell_type": "code",
   "execution_count": 52,
   "metadata": {},
   "outputs": [],
   "source": [
    "# we can use any of the operators we have seen in the boolean part above:\n",
    "# >, <, ==, !=, >=, <=, not, and, or, &, | and ()"
   ]
  },
  {
   "cell_type": "markdown",
   "metadata": {},
   "source": [
    "#### looping"
   ]
  },
  {
   "cell_type": "code",
   "execution_count": 53,
   "metadata": {},
   "outputs": [
    {
     "name": "stdout",
     "output_type": "stream",
     "text": [
      "Anne\n",
      "Jake\n",
      "Erika\n"
     ]
    }
   ],
   "source": [
    "# we can use a loop to either iterate through a collection or to repeatedly do something\n",
    "names = ['Anne','Jake','Erika']\n",
    "for n in names:\n",
    "    print(n)"
   ]
  },
  {
   "cell_type": "code",
   "execution_count": 54,
   "metadata": {},
   "outputs": [
    {
     "name": "stdout",
     "output_type": "stream",
     "text": [
      "0 0 0\n",
      "1 1 1\n",
      "2 4 8\n",
      "3 9 27\n",
      "4 16 64\n",
      "5 25 125\n",
      "6 36 216\n",
      "7 49 343\n",
      "8 64 512\n",
      "9 81 729\n"
     ]
    }
   ],
   "source": [
    "for i in range(10):  # range creates (as expected) a range of integers \n",
    "    print(i,i**2,i**3)"
   ]
  },
  {
   "cell_type": "code",
   "execution_count": 55,
   "metadata": {},
   "outputs": [
    {
     "name": "stdout",
     "output_type": "stream",
     "text": [
      "the index of Anne in the names list is 0\n",
      "the index of Jake in the names list is 1\n",
      "the index of Erika in the names list is 2\n"
     ]
    }
   ],
   "source": [
    "names = ['Anne','Jake','Erika']\n",
    "for i,n in enumerate(names):    # enumerate creates an iterator (more on that later on) that yields an indexed list: \n",
    "    print('the index of {} in the names list is {}'.format(n,i))"
   ]
  },
  {
   "cell_type": "code",
   "execution_count": 56,
   "metadata": {},
   "outputs": [
    {
     "name": "stdout",
     "output_type": "stream",
     "text": [
      "0\n",
      "1\n",
      "2\n",
      "3\n",
      "6\n",
      "7\n",
      "14\n",
      "15\n",
      "30\n",
      "31\n",
      "62\n",
      "63\n"
     ]
    }
   ],
   "source": [
    "# another type of loop is a while loop that keeps looping untill a condition is met:\n",
    "n = 0\n",
    "while n < 100:\n",
    "    print(n)\n",
    "    if n%2==0:\n",
    "        n+=1\n",
    "    else:\n",
    "        n*=2\n",
    "        \n",
    "# think, what is the probability that the last number would be even for n >= 10000?"
   ]
  },
  {
   "cell_type": "code",
   "execution_count": 57,
   "metadata": {},
   "outputs": [
    {
     "name": "stdout",
     "output_type": "stream",
     "text": [
      "current n= 5\n"
     ]
    }
   ],
   "source": [
    "# use the 'break' statement to exit the loop and go on with the rest of the code\n",
    "n=0\n",
    "while n<1000000:\n",
    "    n+=1\n",
    "    if n // 5==1:\n",
    "        break\n",
    "print('current n=',n)"
   ]
  },
  {
   "cell_type": "code",
   "execution_count": 58,
   "metadata": {},
   "outputs": [
    {
     "name": "stdout",
     "output_type": "stream",
     "text": [
      "current n= 1\n",
      "current n= 2\n",
      "current n= 4\n",
      "current n= 5\n",
      "current n= 7\n",
      "current n= 8\n",
      "current n= 10\n"
     ]
    }
   ],
   "source": [
    "# use the 'continue' statement to stop the current iteration of the loop and skip to the next one\n",
    "n=0\n",
    "while n<10:\n",
    "    n+=1\n",
    "    if n % 3 == 0:\n",
    "        continue\n",
    "    print('current n=',n)\n",
    "    \n",
    "# note that multiples of 3 don't get printed"
   ]
  },
  {
   "cell_type": "code",
   "execution_count": 59,
   "metadata": {},
   "outputs": [
    {
     "name": "stdout",
     "output_type": "stream",
     "text": [
      "[0, 1, 4, 9, 16, 25, 36, 49, 64, 81, 100, 121, 144, 169, 196, 225, 256, 289, 324, 361]\n"
     ]
    }
   ],
   "source": [
    "# another great and useful way of using the 'for' reseved way is called a list-comprehention or dict-comprehention\n",
    "# in this way we can create a list (or a dictionary) using an internal \"for loop\" as follows:\n",
    "l1 = [x**2 for x in range(20)]\n",
    "print(l1)"
   ]
  },
  {
   "cell_type": "code",
   "execution_count": 60,
   "metadata": {},
   "outputs": [
    {
     "name": "stdout",
     "output_type": "stream",
     "text": [
      "[9, 81, 225]\n"
     ]
    }
   ],
   "source": [
    "# we can also condition within a list comprehention:\n",
    "l1 = [x**2 for x in range(20) if (x%2==1)and(x%3==0)]\n",
    "print(l1)"
   ]
  },
  {
   "cell_type": "code",
   "execution_count": 61,
   "metadata": {},
   "outputs": [
    {
     "name": "stdout",
     "output_type": "stream",
     "text": [
      "{'Anne': 0, 'Jake': 1, 'Erika': 2}\n"
     ]
    }
   ],
   "source": [
    "# we can use the same in dictionary comprehention\n",
    "# lets say we wanto to use numbers instead of names we can create the following dictionary:\n",
    "names = ['Anne','Jake','Erika']\n",
    "dict1 = {n:i for i,n in enumerate(names)}\n",
    "print(dict1)"
   ]
  },
  {
   "cell_type": "code",
   "execution_count": 62,
   "metadata": {},
   "outputs": [
    {
     "name": "stdout",
     "output_type": "stream",
     "text": [
      "a= ['a1', 'a2', 'a3', 'a4', 'a5', 'a6', 'a7', 'a8', 'a9', 'a10']\n",
      "b= ['b20', 'b20', 'b60', 'b40', 'b100', 'b60', 'b140', 'b80', 'b180', 'b100']\n"
     ]
    }
   ],
   "source": [
    "# sometimes we want to iterate not only over one set of values but over few sets at the same time\n",
    "# this can be done using the zip() function\n",
    "a = ['a'+str(x) for x in range(1,11)]\n",
    "b = ['b'+str(x*10) if x%2==0 else 'b'+str(x*20) for x in range(1,11)]\n",
    "print('a=',a)\n",
    "print('b=',b)"
   ]
  },
  {
   "cell_type": "code",
   "execution_count": 63,
   "metadata": {},
   "outputs": [
    {
     "name": "stdout",
     "output_type": "stream",
     "text": [
      "c= ['c0.05', 'c0.1', 'c0.05', 'c0.1', 'c0.05', 'c0.1', 'c0.05', 'c0.1', 'c0.05', 'c0.1']\n"
     ]
    }
   ],
   "source": [
    "# lets assume we want to get the division of the numbers in the a list divided by the numbers in the b list\n",
    "# this can easily be done with a single list comprehension as follows:\n",
    "c = ['c'+str(float(x.split('a')[1])/float(y.split('b')[1])) for (x,y) in zip(a,b)]\n",
    "print('c=',c)"
   ]
  },
  {
   "cell_type": "markdown",
   "metadata": {},
   "source": [
    "## functions"
   ]
  },
  {
   "cell_type": "code",
   "execution_count": 64,
   "metadata": {},
   "outputs": [
    {
     "name": "stdout",
     "output_type": "stream",
     "text": [
      "\u001b[1;31m hello world!\n"
     ]
    }
   ],
   "source": [
    "# in order to create a more modular code and reuse the same code blocks instead of writing them again\n",
    "# we can declare functions and use them over and over\n",
    "# a function is defined with def statement\n",
    "def red_print_hello_world():\n",
    "    print('\\033[1;31m hello world!')\n",
    "\n",
    "# now let's use our newly created function\n",
    "red_print_hello_world()"
   ]
  },
  {
   "cell_type": "code",
   "execution_count": 65,
   "metadata": {},
   "outputs": [
    {
     "name": "stdout",
     "output_type": "stream",
     "text": [
      "\u001b[1;31mthis is what I want to print in red\n"
     ]
    }
   ],
   "source": [
    "# a function can different recieve parameters allowing flexible use:\n",
    "def red_print(text):\n",
    "    print('\\033[1;31m'+text)\n",
    "red_print('this is what I want to print in red')"
   ]
  },
  {
   "cell_type": "code",
   "execution_count": 66,
   "metadata": {},
   "outputs": [
    {
     "name": "stdout",
     "output_type": "stream",
     "text": [
      "\u001b[1;34mthis is what I want to print in blue\n"
     ]
    }
   ],
   "source": [
    "# a function can recieve different parameters allowing flexible use:\n",
    "def color_print(text,desired_color):\n",
    "    if desired_color=='red':\n",
    "        print('\\033[1;31m'+text)\n",
    "    elif desired_color=='blue':\n",
    "        print('\\033[1;34m'+text)\n",
    "    else:\n",
    "        print('\\033[0;0m'+text)\n",
    "color_print('this is what I want to print in blue','blue')"
   ]
  },
  {
   "cell_type": "code",
   "execution_count": 67,
   "metadata": {},
   "outputs": [
    {
     "name": "stdout",
     "output_type": "stream",
     "text": [
      "\u001b[1;34msample text\n"
     ]
    }
   ],
   "source": [
    "# a parameter can have a default value\n",
    "def color_print(text='sample text',desired_color='blue'):\n",
    "    if desired_color=='red':\n",
    "        print('\\033[1;31m'+text)\n",
    "    elif desired_color=='blue':\n",
    "        print('\\033[1;34m'+text)\n",
    "    else:\n",
    "        print('\\033[0;0m'+text)\n",
    "color_print()"
   ]
  },
  {
   "cell_type": "code",
   "execution_count": 68,
   "metadata": {},
   "outputs": [
    {
     "name": "stdout",
     "output_type": "stream",
     "text": [
      "\u001b[1;34mthis \u001b[1;31mis \u001b[0;0ma \u001b[1;34msample \u001b[1;31mtext \u001b[0;0mprinted \u001b[1;34min \u001b[1;31malternating \u001b[0;0mcolors "
     ]
    }
   ],
   "source": [
    "# practice!\n",
    "# write a function that prints the text in the 'text' parameter with alternating color for each word\n",
    "\n",
    "# solution (to be removed in the practice nb):\n",
    "\n",
    "def color_print(text='sample text',desired_color='blue',end='\\n'):\n",
    "    if desired_color=='red':\n",
    "        print('\\033[1;31m'+text,end=end)\n",
    "    elif desired_color=='blue':\n",
    "        print('\\033[1;34m'+text,end=end)\n",
    "    else:\n",
    "        print('\\033[0;0m'+text,end=end)\n",
    "\n",
    "def colorfull_print(text):\n",
    "    text_list = text.split()\n",
    "    color_dict = {0:'blue',1:'red',2:'black'}\n",
    "    for c,t in enumerate(text_list):\n",
    "        color_print(t,color_dict[c%3],end=' ')\n",
    "\n",
    "colorfull_print('this is a sample text printed in alternating colors')"
   ]
  },
  {
   "cell_type": "code",
   "execution_count": 69,
   "metadata": {},
   "outputs": [
    {
     "data": {
      "text/plain": [
       "(51, 657)"
      ]
     },
     "execution_count": 69,
     "metadata": {},
     "output_type": "execute_result"
    }
   ],
   "source": [
    "# a function can also return one or more values\n",
    "def sqr_and_qube_diff(a,b):\n",
    "    return (a-b)*(a+b),a**3-b**3\n",
    "\n",
    "# think, what is the data-type of the output?\n",
    "sqr_and_qube_diff(10,7)"
   ]
  },
  {
   "cell_type": "code",
   "execution_count": 70,
   "metadata": {},
   "outputs": [
    {
     "name": "stdout",
     "output_type": "stream",
     "text": [
      "the function recieved 7 argumnets\n",
      "the sum of the first argument and the last one is: 8\n"
     ]
    }
   ],
   "source": [
    "# we do not allways know in advance the number of parameters we will get in our function \n",
    "# we can use the '*' parameter decleration in order to create a fuction that recieves unknown number of parameters\n",
    "def multiple_arguments(*args):\n",
    "    print('the function recieved {} argumnets'.format(len(args)))\n",
    "    print('the sum of the first argument and the last one is: {}'.format(args[0]+args[-1]))\n",
    "    \n",
    "multiple_arguments(1,2,3,4,5,6,7)"
   ]
  },
  {
   "cell_type": "code",
   "execution_count": 71,
   "metadata": {},
   "outputs": [
    {
     "name": "stdout",
     "output_type": "stream",
     "text": [
      "[0, 1, 1, 2, 3, 5, 8, 13, 21, 34, 55, 89, 144, 233, 377, 610, 987, 1597, 2584, 4181, 6765, 10946, 17711, 28657, 46368, 75025, 121393, 196418, 317811, 514229, 832040, 1346269, 2178309, 3524578]\n"
     ]
    }
   ],
   "source": [
    "# recursion is the concept of a function that calls itself\n",
    "# this is very useful when a problem can be solved by reducing it to a simpler problem\n",
    "# this is an example of how to calculate fibonacci numbers \n",
    "def fib(n):\n",
    "    if n==0: return 0 \n",
    "    if n==1: return 1\n",
    "    if n>1: return fib(n-1)+fib(n-2)\n",
    "    else: return None\n",
    "    \n",
    "print([fib(x) for x in range(34)])"
   ]
  },
  {
   "cell_type": "code",
   "execution_count": 72,
   "metadata": {},
   "outputs": [],
   "source": [
    "# another option is to implement using dinamic programing, as we'll see this is a very important concept in terms of runtime\n",
    "fib_results = [0,1]\n",
    "def fib_dynamic_prog(n):\n",
    "    if n>=0: \n",
    "        if n<len(fib_results): return fib_results[n]\n",
    "        else: \n",
    "            fib_results.append(fib_dynamic_prog(n-2)+fib_dynamic_prog(n-1))\n",
    "            return fib_results[n]\n",
    "    else: return None"
   ]
  },
  {
   "cell_type": "code",
   "execution_count": 73,
   "metadata": {},
   "outputs": [
    {
     "name": "stdout",
     "output_type": "stream",
     "text": [
      "[0, 1, 1, 2, 3, 5, 8, 13, 21, 34, 55, 89, 144, 233, 377, 610, 987, 1597, 2584, 4181, 6765, 10946, 17711, 28657, 46368, 75025, 121393, 196418, 317811, 514229, 832040, 1346269, 2178309, 3524578, 5702887]\n",
      "Wall time: 6.37 s\n"
     ]
    }
   ],
   "source": [
    "# we can use the %time magic (within jupyter) to measure runtime of a single line \n",
    "# or %%time in the begining of a cell to measure runtime of the entire cell\n",
    "%time print([fib(x) for x in range(35)])"
   ]
  },
  {
   "cell_type": "code",
   "execution_count": 74,
   "metadata": {
    "scrolled": true
   },
   "outputs": [
    {
     "name": "stdout",
     "output_type": "stream",
     "text": [
      "[0, 1, 1, 2, 3, 5, 8, 13, 21, 34, 55, 89, 144, 233, 377, 610, 987, 1597, 2584, 4181, 6765, 10946, 17711, 28657, 46368, 75025, 121393, 196418, 317811, 514229, 832040, 1346269, 2178309, 3524578, 5702887]\n",
      "Wall time: 0 ns\n"
     ]
    }
   ],
   "source": [
    "fib_results = [0,1]\n",
    "%time print([fib_dynamic_prog(x) for x in range(35)])"
   ]
  },
  {
   "cell_type": "code",
   "execution_count": 75,
   "metadata": {},
   "outputs": [
    {
     "name": "stdout",
     "output_type": "stream",
     "text": [
      "the result of our lambda function for inputs:4,3,2 is:49\n"
     ]
    }
   ],
   "source": [
    "# sometime we do not want to create a function seperately but rather create a function on the fly for a single time use\n",
    "# this can be done using lambda functions, a lambda function is an anonymous function \n",
    "# it can take any number of arguments but shold only be constructed of a single expression \n",
    "x = lambda a,b,c: (a+b)**c\n",
    "print('the result of our lambda function for inputs:{},{},{} is:{}'.format(*[4,3,2],x(*[4,3,2])))"
   ]
  },
  {
   "cell_type": "code",
   "execution_count": 76,
   "metadata": {},
   "outputs": [],
   "source": [
    "def moduler(n):\n",
    "    return lambda x: x%n"
   ]
  },
  {
   "cell_type": "code",
   "execution_count": 77,
   "metadata": {},
   "outputs": [
    {
     "name": "stdout",
     "output_type": "stream",
     "text": [
      "modulu 2 of 13 is 1,  modulu 5 of 13 is 3\n"
     ]
    }
   ],
   "source": [
    "modulu2 = moduler(2)\n",
    "modulu5 = moduler(5)\n",
    "print('modulu 2 of {} is {},  modulu 5 of {} is {}'.format(13,modulu2(13),13,modulu5(13)))\n"
   ]
  },
  {
   "cell_type": "markdown",
   "metadata": {},
   "source": [
    "## working with files"
   ]
  },
  {
   "cell_type": "code",
   "execution_count": 78,
   "metadata": {},
   "outputs": [],
   "source": [
    "# writing text to a file is very simple, we need to open the file - write the content into it and close it.\n",
    "f = open('temp.txt','wt')\n",
    "f.write('the first sentence in the file')\n",
    "f.close()"
   ]
  },
  {
   "cell_type": "code",
   "execution_count": 79,
   "metadata": {},
   "outputs": [
    {
     "name": "stdout",
     "output_type": "stream",
     "text": [
      "the first sentence in the file\n"
     ]
    }
   ],
   "source": [
    "# reading is also very simple (and quite similar) we need to open the file - write the content into it and close it.\n",
    "# note that type of opening of the file is set by the letter w/r/a/x for write/read/append/create respectively\n",
    "# and the type of the file content is set by letter t/b for text/binary respectively \n",
    "# so 'wt' stands for 'write text' and 'rb' would stand for 'read binary'\n",
    "f = open('temp.txt','rt')\n",
    "print(f.read())\n",
    "f.close()"
   ]
  },
  {
   "cell_type": "code",
   "execution_count": 80,
   "metadata": {},
   "outputs": [],
   "source": [
    "# we can also save some text in a binary format\n",
    "f = open('temp.txt','wb')\n",
    "f.write(b'the first sentence in the file')\n",
    "f.close()"
   ]
  },
  {
   "cell_type": "code",
   "execution_count": 81,
   "metadata": {},
   "outputs": [
    {
     "data": {
      "text/plain": [
       "b'the first sentence in the file'"
      ]
     },
     "execution_count": 81,
     "metadata": {},
     "output_type": "execute_result"
    }
   ],
   "source": [
    "# b'the first sentence in the file' is equivalent to 'the first sentence in the file'.encode()\n",
    "'the first sentence in the file'.encode()"
   ]
  },
  {
   "cell_type": "code",
   "execution_count": 82,
   "metadata": {},
   "outputs": [
    {
     "name": "stdout",
     "output_type": "stream",
     "text": [
      "the first sentence in the file\n"
     ]
    }
   ],
   "source": [
    "# in order to get the regular text and not binary formatted text we can use \".decode('utf-8')\"\n",
    "f = open('temp.txt','rb')\n",
    "print(f.read().decode('utf-8'))\n",
    "f.close()"
   ]
  },
  {
   "cell_type": "code",
   "execution_count": 83,
   "metadata": {},
   "outputs": [],
   "source": [
    "# test the time defference between reading and writing data as text \n",
    "# compared with doing the same with binary text\n",
    "# you can use the %%time magic for each of the above four cells"
   ]
  },
  {
   "cell_type": "code",
   "execution_count": 84,
   "metadata": {},
   "outputs": [
    {
     "name": "stdout",
     "output_type": "stream",
     "text": [
      "this is a sample text\n",
      "\n"
     ]
    }
   ],
   "source": [
    "# sometimes it is useful to save data into a memory buffer\n",
    "# this can be done using the io library\n",
    "import io\n",
    "buffer = io.BytesIO()\n",
    "buffer.write(b'this is a sample text\\n')\n",
    "print(buffer.getvalue().decode('utf-8'))"
   ]
  },
  {
   "cell_type": "code",
   "execution_count": 85,
   "metadata": {},
   "outputs": [],
   "source": [
    "# in order to fully understand the power of in memory buffer lets compare concatination of 100k short strings \n",
    "# in three ways:\n",
    "# 1. writing into a file\n",
    "# 2. concatinating in a variable\n",
    "# 3. writing into an in-memory buffer"
   ]
  },
  {
   "cell_type": "code",
   "execution_count": 86,
   "metadata": {},
   "outputs": [
    {
     "name": "stdout",
     "output_type": "stream",
     "text": [
      "the first sentence in the file\n",
      "the first sentence in the file\n",
      "the first sentence in the file\n",
      "the fir\n",
      "Wall time: 23.9 ms\n"
     ]
    }
   ],
   "source": [
    "%%time\n",
    "f = open('temp1.txt','wb')\n",
    "for i in range(100000):\n",
    "    f.write(b'the first sentence in the file\\n')\n",
    "f.close()\n",
    "f = open('temp1.txt','rb')\n",
    "print(f.read().decode('utf-8')[:100])\n",
    "f.close()"
   ]
  },
  {
   "cell_type": "code",
   "execution_count": 87,
   "metadata": {},
   "outputs": [
    {
     "name": "stdout",
     "output_type": "stream",
     "text": [
      "this is a sample text\n",
      "this is a sample text\n",
      "this is a sample text\n",
      "this is a sample text\n",
      "this is a sa\n",
      "Wall time: 231 ms\n"
     ]
    }
   ],
   "source": [
    "%%time\n",
    "temp = ''\n",
    "for f in range(100000):\n",
    "    temp+='this is a sample text\\n'\n",
    "print(temp[:100])"
   ]
  },
  {
   "cell_type": "code",
   "execution_count": 88,
   "metadata": {},
   "outputs": [
    {
     "name": "stdout",
     "output_type": "stream",
     "text": [
      "this is a sample text\n",
      "this is a sample text\n",
      "this is a sample text\n",
      "this is a sample text\n",
      "this is a sa\n",
      "Wall time: 18.9 ms\n"
     ]
    }
   ],
   "source": [
    "%%time\n",
    "import io\n",
    "buffer = io.BytesIO()\n",
    "for f in range(100000):\n",
    "    buffer.write(b'this is a sample text\\n')\n",
    "print(buffer.getvalue().decode('utf-8')[:100])"
   ]
  },
  {
   "cell_type": "code",
   "execution_count": 89,
   "metadata": {},
   "outputs": [
    {
     "data": {
      "text/plain": [
       "{'Anne': {'age': 26, 'gender': 'female', 'id': 2398230192},\n",
       " 'Jake': {'age': 18, 'gender': 'male', 'id': 1094380299},\n",
       " 'Erika': {'age': 22, 'gender': 'female', 'id': 1923480923}}"
      ]
     },
     "execution_count": 89,
     "metadata": {},
     "output_type": "execute_result"
    }
   ],
   "source": [
    "# now lets try to save to disk our nested dictionary from previous section:\n",
    "people = {\n",
    "    'Anne':{\n",
    "        'age':26,\n",
    "        'gender':'female',\n",
    "        'id':2398230192\n",
    "    },\n",
    "    'Jake':{\n",
    "        'age':18,\n",
    "        'gender':'male',\n",
    "        'id':1094380299\n",
    "    },\n",
    "    'Erika':{\n",
    "        'age':22,\n",
    "        'gender':'female',\n",
    "        'id':1923480923\n",
    "    }\n",
    "}\n",
    "people"
   ]
  },
  {
   "cell_type": "code",
   "execution_count": 90,
   "metadata": {},
   "outputs": [],
   "source": [
    "# in order to do that we need to undergo a process of serialization \n",
    "# serialization reffers to converting the structured data into a format that can be saved to disk (serial rather than nested)\n",
    "# we can use the pickle library for to do just that - saving more complex structures to disk\n",
    "# it is also useful for fast loading as the data is saved in binary format\n",
    "# and also because pickle allows for data compression of the saved file "
   ]
  },
  {
   "cell_type": "code",
   "execution_count": 91,
   "metadata": {},
   "outputs": [],
   "source": [
    "import pickle\n",
    "f = open('people.pickle','wb')\n",
    "# pickle.dump(people,f,protocol=pickle.HIGHEST_PROTOCOL) ## check to see what is the difference in file size created\n",
    "pickle.dump(people,f)\n",
    "f.close()"
   ]
  },
  {
   "cell_type": "code",
   "execution_count": 92,
   "metadata": {},
   "outputs": [],
   "source": [
    "f = open('people.pickle','rb')\n",
    "new_people = pickle.load(f)\n",
    "f.close()"
   ]
  },
  {
   "cell_type": "code",
   "execution_count": 93,
   "metadata": {},
   "outputs": [
    {
     "data": {
      "text/plain": [
       "{'Anne': {'age': 26, 'gender': 'female', 'id': 2398230192},\n",
       " 'Jake': {'age': 18, 'gender': 'male', 'id': 1094380299},\n",
       " 'Erika': {'age': 22, 'gender': 'female', 'id': 1923480923}}"
      ]
     },
     "execution_count": 93,
     "metadata": {},
     "output_type": "execute_result"
    }
   ],
   "source": [
    "new_people"
   ]
  },
  {
   "cell_type": "markdown",
   "metadata": {},
   "source": [
    "## classes"
   ]
  },
  {
   "cell_type": "code",
   "execution_count": 94,
   "metadata": {},
   "outputs": [],
   "source": [
    "# python is an object oriented programing language (OOP)\n",
    "# this means that almost everything within python is an object \n",
    "# an object is a programing concept that can contain data and methods \n",
    "# the main idea behind OOP is that objects can interact with other objects or change their self-contained data\n",
    "\n",
    "# the first basic concept we will use is the concept of a class\n",
    "# we can think of a class is a template that we design in order to create object of a specific kind\n",
    "\n",
    "# in the following code-cell we will define a person class"
   ]
  },
  {
   "cell_type": "code",
   "execution_count": 95,
   "metadata": {},
   "outputs": [],
   "source": [
    "class person(object):\n",
    "    def __init__(self,p_id,age,gender):\n",
    "        self.id = p_id\n",
    "        self.age = age\n",
    "        self.gender = gender\n",
    "\n",
    "p1 = person(2398230192,26,'female')\n",
    "p2 = person(1094380299,18,'male')\n",
    "p3 = person(1923480923,22,'female')"
   ]
  },
  {
   "cell_type": "code",
   "execution_count": 96,
   "metadata": {},
   "outputs": [],
   "source": [
    "# the above rows are called instantiation of objects of type 'person'\n",
    "# lets take a look at the contents of our instances p1,p2,p3"
   ]
  },
  {
   "cell_type": "code",
   "execution_count": 97,
   "metadata": {},
   "outputs": [
    {
     "name": "stdout",
     "output_type": "stream",
     "text": [
      "person p1 id=2398230192, age=26, and gender=female.\n",
      "person p2 id=1094380299, age=18, and gender=male.\n",
      "person p3 id=1923480923, age=22, and gender=female.\n"
     ]
    }
   ],
   "source": [
    "people = [p1,p2,p3]\n",
    "for i,p in enumerate(people):\n",
    "    print('person {} id={}, age={}, and gender={}.'.format('p'+str(i+1),p.id,p.age,p.gender))"
   ]
  },
  {
   "cell_type": "code",
   "execution_count": 98,
   "metadata": {},
   "outputs": [],
   "source": [
    "# As we mentioned before we can also add methods to our new person class "
   ]
  },
  {
   "cell_type": "code",
   "execution_count": 99,
   "metadata": {},
   "outputs": [
    {
     "name": "stdout",
     "output_type": "stream",
     "text": [
      "person p1 id=2398230192, age=26, and gender=female.\n",
      "person p2 id=1094380299, age=18, and gender=male.\n",
      "person p3 id=1923480923, age=22, and gender=female.\n"
     ]
    }
   ],
   "source": [
    "class person(object):\n",
    "    def __init__(self,p_id,age,gender):\n",
    "        self.id = p_id\n",
    "        self.age = age\n",
    "        self.gender = gender\n",
    "    def print_details(self):\n",
    "        print('id={}, age={}, and gender={}.'.format(self.id,self.age,self.gender))\n",
    "\n",
    "p1 = person(2398230192,26,'female')\n",
    "p2 = person(1094380299,18,'male')\n",
    "p3 = person(1923480923,22,'female')\n",
    "people = [p1,p2,p3]\n",
    "for i,p in enumerate(people):\n",
    "    print('person p'+str(i+1),end=' ')\n",
    "    p.print_details()\n"
   ]
  },
  {
   "cell_type": "code",
   "execution_count": 100,
   "metadata": {},
   "outputs": [
    {
     "name": "stdout",
     "output_type": "stream",
     "text": [
      "details of client c1 are:\n",
      "id=9283982322, age=40, and gender=female.\n",
      "client_id=902834982\n"
     ]
    }
   ],
   "source": [
    "class client(person):\n",
    "    def __init__(self,p_id,age,gender,client_id):\n",
    "        super().__init__(p_id,age,gender)\n",
    "        self.client_id = client_id\n",
    "        self.__balance = 0\n",
    "    def transaction(self,amount):\n",
    "        self.__balance += amount\n",
    "    def get_balance(self):\n",
    "        return self.__balance\n",
    "\n",
    "c1 = client(9283982322,40,'female',902834982)\n",
    "print('details of client c1 are:')\n",
    "c1.print_details()\n",
    "print('client_id='+str(c1.client_id))"
   ]
  },
  {
   "cell_type": "code",
   "execution_count": 101,
   "metadata": {},
   "outputs": [],
   "source": [
    "# as we can see by defining client as a class using person instead of just an object, \n",
    "# we get the option to refer to the 'person' class properties and methods\n",
    "# by igniting the __init__ function of person (using super().__init__) \n",
    "# we make client class compliant with the properties and methods of its parent class 'person'"
   ]
  },
  {
   "cell_type": "code",
   "execution_count": 102,
   "metadata": {},
   "outputs": [
    {
     "ename": "AttributeError",
     "evalue": "'client' object has no attribute '__balance'",
     "output_type": "error",
     "traceback": [
      "\u001b[1;31m---------------------------------------------------------------------------\u001b[0m",
      "\u001b[1;31mAttributeError\u001b[0m                            Traceback (most recent call last)",
      "\u001b[1;32m<ipython-input-102-be6e666d6cd2>\u001b[0m in \u001b[0;36m<module>\u001b[1;34m\u001b[0m\n\u001b[0;32m      2\u001b[0m \u001b[1;31m# this is a result of the concept called encapsulation - the ability to change private variable(s) only through the designated methods\u001b[0m\u001b[1;33m\u001b[0m\u001b[1;33m\u001b[0m\u001b[1;33m\u001b[0m\u001b[0m\n\u001b[0;32m      3\u001b[0m \u001b[1;31m# private variables in python are defined using __ (double underscore) prior to the variable name\u001b[0m\u001b[1;33m\u001b[0m\u001b[1;33m\u001b[0m\u001b[1;33m\u001b[0m\u001b[0m\n\u001b[1;32m----> 4\u001b[1;33m \u001b[0mc1\u001b[0m\u001b[1;33m.\u001b[0m\u001b[0m__balance\u001b[0m\u001b[1;33m\u001b[0m\u001b[1;33m\u001b[0m\u001b[0m\n\u001b[0m",
      "\u001b[1;31mAttributeError\u001b[0m: 'client' object has no attribute '__balance'"
     ]
    }
   ],
   "source": [
    "# note that attempts to reach the __balance account ends with an error\n",
    "# this is a result of the concept called encapsulation - the ability to change private variable(s) only through the designated methods\n",
    "# private variables in python are defined using __ (double underscore) prior to the variable name\n",
    "c1.__balance"
   ]
  },
  {
   "cell_type": "code",
   "execution_count": 103,
   "metadata": {},
   "outputs": [
    {
     "data": {
      "text/plain": [
       "0"
      ]
     },
     "execution_count": 103,
     "metadata": {},
     "output_type": "execute_result"
    }
   ],
   "source": [
    "# however we can still get the value of the client's balance using the method we have prepared for this cause\n",
    "# in this way we can prevent undesired changes to some of the variables of a class within our code\n",
    "c1.get_balance()"
   ]
  },
  {
   "cell_type": "code",
   "execution_count": 104,
   "metadata": {},
   "outputs": [],
   "source": [
    "c1.transaction(100)\n",
    "c1.transaction(-40)\n",
    "c1.transaction(-30)"
   ]
  },
  {
   "cell_type": "code",
   "execution_count": 105,
   "metadata": {},
   "outputs": [
    {
     "data": {
      "text/plain": [
       "30"
      ]
     },
     "execution_count": 105,
     "metadata": {},
     "output_type": "execute_result"
    }
   ],
   "source": [
    "c1.get_balance()"
   ]
  },
  {
   "cell_type": "code",
   "execution_count": 106,
   "metadata": {},
   "outputs": [],
   "source": [
    "f = open('client1.pickle','wb')\n",
    "pickle.dump(c1,f)\n",
    "f.close()"
   ]
  },
  {
   "cell_type": "code",
   "execution_count": 107,
   "metadata": {},
   "outputs": [
    {
     "data": {
      "text/plain": [
       "30"
      ]
     },
     "execution_count": 107,
     "metadata": {},
     "output_type": "execute_result"
    }
   ],
   "source": [
    "f = open('client1.pickle','rb')\n",
    "c2 = pickle.load(f)\n",
    "f.close()\n",
    "c2.get_balance()"
   ]
  },
  {
   "cell_type": "code",
   "execution_count": null,
   "metadata": {},
   "outputs": [],
   "source": []
  }
 ],
 "metadata": {
  "kernelspec": {
   "display_name": "kbc",
   "language": "python",
   "name": "kbc"
  },
  "language_info": {
   "codemirror_mode": {
    "name": "ipython",
    "version": 3
   },
   "file_extension": ".py",
   "mimetype": "text/x-python",
   "name": "python",
   "nbconvert_exporter": "python",
   "pygments_lexer": "ipython3",
   "version": "3.7.4"
  }
 },
 "nbformat": 4,
 "nbformat_minor": 2
}
